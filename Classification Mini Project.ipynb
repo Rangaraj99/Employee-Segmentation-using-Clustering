{
 "cells": [
  {
   "cell_type": "code",
   "execution_count": 1,
   "id": "f33ee780",
   "metadata": {},
   "outputs": [],
   "source": [
    "# importing required libraries\n",
    "\n",
    "import numpy as np\n",
    "import pandas as pd\n",
    "import matplotlib.pyplot as plt\n",
    "import seaborn as sb\n",
    "from sklearn.linear_model import LogisticRegression\n",
    "from sklearn.ensemble import RandomForestClassifier, StackingClassifier, AdaBoostClassifier\n",
    "from sklearn.tree import DecisionTreeClassifier\n",
    "from sklearn.svm import SVC\n",
    "from sklearn.naive_bayes import GaussianNB\n",
    "from sklearn.neighbors import KNeighborsClassifier\n",
    "from sklearn.model_selection import train_test_split,RepeatedStratifiedKFold, cross_val_score, GridSearchCV, cross_val_predict\n",
    "from sklearn.metrics import accuracy_score, f1_score, precision_score, recall_score, confusion_matrix, roc_auc_score\n",
    "from sklearn.preprocessing import MinMaxScaler, LabelEncoder "
   ]
  },
  {
   "cell_type": "code",
   "execution_count": 2,
   "id": "fed39adc",
   "metadata": {},
   "outputs": [
    {
     "data": {
      "text/html": [
       "<div>\n",
       "<style scoped>\n",
       "    .dataframe tbody tr th:only-of-type {\n",
       "        vertical-align: middle;\n",
       "    }\n",
       "\n",
       "    .dataframe tbody tr th {\n",
       "        vertical-align: top;\n",
       "    }\n",
       "\n",
       "    .dataframe thead th {\n",
       "        text-align: right;\n",
       "    }\n",
       "</style>\n",
       "<table border=\"1\" class=\"dataframe\">\n",
       "  <thead>\n",
       "    <tr style=\"text-align: right;\">\n",
       "      <th></th>\n",
       "      <th>CustomerId</th>\n",
       "      <th>Surname</th>\n",
       "      <th>CreditScore</th>\n",
       "      <th>Geography</th>\n",
       "      <th>Gender</th>\n",
       "      <th>Age</th>\n",
       "      <th>Tenure</th>\n",
       "      <th>Balance</th>\n",
       "      <th>NumOfProducts</th>\n",
       "      <th>HasCrCard</th>\n",
       "      <th>IsActiveMember</th>\n",
       "      <th>EstimatedSalary</th>\n",
       "      <th>Exited</th>\n",
       "    </tr>\n",
       "  </thead>\n",
       "  <tbody>\n",
       "    <tr>\n",
       "      <th>0</th>\n",
       "      <td>15634602</td>\n",
       "      <td>Hargrave</td>\n",
       "      <td>619</td>\n",
       "      <td>France</td>\n",
       "      <td>Female</td>\n",
       "      <td>42</td>\n",
       "      <td>2</td>\n",
       "      <td>0.00</td>\n",
       "      <td>1</td>\n",
       "      <td>1</td>\n",
       "      <td>1</td>\n",
       "      <td>101348.88</td>\n",
       "      <td>1</td>\n",
       "    </tr>\n",
       "    <tr>\n",
       "      <th>1</th>\n",
       "      <td>15647311</td>\n",
       "      <td>Hill</td>\n",
       "      <td>608</td>\n",
       "      <td>Spain</td>\n",
       "      <td>Female</td>\n",
       "      <td>41</td>\n",
       "      <td>1</td>\n",
       "      <td>83807.86</td>\n",
       "      <td>1</td>\n",
       "      <td>0</td>\n",
       "      <td>1</td>\n",
       "      <td>112542.58</td>\n",
       "      <td>0</td>\n",
       "    </tr>\n",
       "    <tr>\n",
       "      <th>2</th>\n",
       "      <td>15619304</td>\n",
       "      <td>Onio</td>\n",
       "      <td>502</td>\n",
       "      <td>France</td>\n",
       "      <td>Female</td>\n",
       "      <td>42</td>\n",
       "      <td>8</td>\n",
       "      <td>159660.80</td>\n",
       "      <td>3</td>\n",
       "      <td>1</td>\n",
       "      <td>0</td>\n",
       "      <td>113931.57</td>\n",
       "      <td>1</td>\n",
       "    </tr>\n",
       "    <tr>\n",
       "      <th>3</th>\n",
       "      <td>15701354</td>\n",
       "      <td>Boni</td>\n",
       "      <td>699</td>\n",
       "      <td>France</td>\n",
       "      <td>Female</td>\n",
       "      <td>39</td>\n",
       "      <td>1</td>\n",
       "      <td>0.00</td>\n",
       "      <td>2</td>\n",
       "      <td>0</td>\n",
       "      <td>0</td>\n",
       "      <td>93826.63</td>\n",
       "      <td>0</td>\n",
       "    </tr>\n",
       "    <tr>\n",
       "      <th>4</th>\n",
       "      <td>15737888</td>\n",
       "      <td>Mitchell</td>\n",
       "      <td>850</td>\n",
       "      <td>Spain</td>\n",
       "      <td>Female</td>\n",
       "      <td>43</td>\n",
       "      <td>2</td>\n",
       "      <td>125510.82</td>\n",
       "      <td>1</td>\n",
       "      <td>1</td>\n",
       "      <td>1</td>\n",
       "      <td>79084.10</td>\n",
       "      <td>0</td>\n",
       "    </tr>\n",
       "  </tbody>\n",
       "</table>\n",
       "</div>"
      ],
      "text/plain": [
       "   CustomerId   Surname  CreditScore Geography  Gender  Age  Tenure  \\\n",
       "0    15634602  Hargrave          619    France  Female   42       2   \n",
       "1    15647311      Hill          608     Spain  Female   41       1   \n",
       "2    15619304      Onio          502    France  Female   42       8   \n",
       "3    15701354      Boni          699    France  Female   39       1   \n",
       "4    15737888  Mitchell          850     Spain  Female   43       2   \n",
       "\n",
       "     Balance  NumOfProducts  HasCrCard  IsActiveMember  EstimatedSalary  \\\n",
       "0       0.00              1          1               1        101348.88   \n",
       "1   83807.86              1          0               1        112542.58   \n",
       "2  159660.80              3          1               0        113931.57   \n",
       "3       0.00              2          0               0         93826.63   \n",
       "4  125510.82              1          1               1         79084.10   \n",
       "\n",
       "   Exited  \n",
       "0       1  \n",
       "1       0  \n",
       "2       1  \n",
       "3       0  \n",
       "4       0  "
      ]
     },
     "execution_count": 2,
     "metadata": {},
     "output_type": "execute_result"
    }
   ],
   "source": [
    "data = pd.read_csv('DS3_C6_S2_Classification_BankChurn_Data_Project.csv')\n",
    "data.head()"
   ]
  },
  {
   "cell_type": "code",
   "execution_count": 3,
   "id": "f6fce4ef",
   "metadata": {},
   "outputs": [
    {
     "data": {
      "text/plain": [
       "(10000, 13)"
      ]
     },
     "execution_count": 3,
     "metadata": {},
     "output_type": "execute_result"
    }
   ],
   "source": [
    "data.shape"
   ]
  },
  {
   "cell_type": "code",
   "execution_count": 4,
   "id": "3542df7f",
   "metadata": {},
   "outputs": [
    {
     "name": "stdout",
     "output_type": "stream",
     "text": [
      "<class 'pandas.core.frame.DataFrame'>\n",
      "RangeIndex: 10000 entries, 0 to 9999\n",
      "Data columns (total 13 columns):\n",
      " #   Column           Non-Null Count  Dtype  \n",
      "---  ------           --------------  -----  \n",
      " 0   CustomerId       10000 non-null  int64  \n",
      " 1   Surname          10000 non-null  object \n",
      " 2   CreditScore      10000 non-null  int64  \n",
      " 3   Geography        10000 non-null  object \n",
      " 4   Gender           10000 non-null  object \n",
      " 5   Age              10000 non-null  int64  \n",
      " 6   Tenure           10000 non-null  int64  \n",
      " 7   Balance          10000 non-null  float64\n",
      " 8   NumOfProducts    10000 non-null  int64  \n",
      " 9   HasCrCard        10000 non-null  int64  \n",
      " 10  IsActiveMember   10000 non-null  int64  \n",
      " 11  EstimatedSalary  10000 non-null  float64\n",
      " 12  Exited           10000 non-null  int64  \n",
      "dtypes: float64(2), int64(8), object(3)\n",
      "memory usage: 1015.8+ KB\n"
     ]
    }
   ],
   "source": [
    "data.info()"
   ]
  },
  {
   "cell_type": "code",
   "execution_count": 5,
   "id": "745adadd",
   "metadata": {},
   "outputs": [
    {
     "data": {
      "text/html": [
       "<div>\n",
       "<style scoped>\n",
       "    .dataframe tbody tr th:only-of-type {\n",
       "        vertical-align: middle;\n",
       "    }\n",
       "\n",
       "    .dataframe tbody tr th {\n",
       "        vertical-align: top;\n",
       "    }\n",
       "\n",
       "    .dataframe thead th {\n",
       "        text-align: right;\n",
       "    }\n",
       "</style>\n",
       "<table border=\"1\" class=\"dataframe\">\n",
       "  <thead>\n",
       "    <tr style=\"text-align: right;\">\n",
       "      <th></th>\n",
       "      <th>CustomerId</th>\n",
       "      <th>CreditScore</th>\n",
       "      <th>Age</th>\n",
       "      <th>Tenure</th>\n",
       "      <th>Balance</th>\n",
       "      <th>NumOfProducts</th>\n",
       "      <th>HasCrCard</th>\n",
       "      <th>IsActiveMember</th>\n",
       "      <th>EstimatedSalary</th>\n",
       "      <th>Exited</th>\n",
       "    </tr>\n",
       "  </thead>\n",
       "  <tbody>\n",
       "    <tr>\n",
       "      <th>count</th>\n",
       "      <td>1.000000e+04</td>\n",
       "      <td>10000.000000</td>\n",
       "      <td>10000.000000</td>\n",
       "      <td>10000.000000</td>\n",
       "      <td>10000.000000</td>\n",
       "      <td>10000.000000</td>\n",
       "      <td>10000.00000</td>\n",
       "      <td>10000.000000</td>\n",
       "      <td>10000.000000</td>\n",
       "      <td>10000.000000</td>\n",
       "    </tr>\n",
       "    <tr>\n",
       "      <th>mean</th>\n",
       "      <td>1.569094e+07</td>\n",
       "      <td>650.528800</td>\n",
       "      <td>38.921800</td>\n",
       "      <td>5.012800</td>\n",
       "      <td>76485.889288</td>\n",
       "      <td>1.530200</td>\n",
       "      <td>0.70550</td>\n",
       "      <td>0.515100</td>\n",
       "      <td>100090.239881</td>\n",
       "      <td>0.203700</td>\n",
       "    </tr>\n",
       "    <tr>\n",
       "      <th>std</th>\n",
       "      <td>7.193619e+04</td>\n",
       "      <td>96.653299</td>\n",
       "      <td>10.487806</td>\n",
       "      <td>2.892174</td>\n",
       "      <td>62397.405202</td>\n",
       "      <td>0.581654</td>\n",
       "      <td>0.45584</td>\n",
       "      <td>0.499797</td>\n",
       "      <td>57510.492818</td>\n",
       "      <td>0.402769</td>\n",
       "    </tr>\n",
       "    <tr>\n",
       "      <th>min</th>\n",
       "      <td>1.556570e+07</td>\n",
       "      <td>350.000000</td>\n",
       "      <td>18.000000</td>\n",
       "      <td>0.000000</td>\n",
       "      <td>0.000000</td>\n",
       "      <td>1.000000</td>\n",
       "      <td>0.00000</td>\n",
       "      <td>0.000000</td>\n",
       "      <td>11.580000</td>\n",
       "      <td>0.000000</td>\n",
       "    </tr>\n",
       "    <tr>\n",
       "      <th>25%</th>\n",
       "      <td>1.562853e+07</td>\n",
       "      <td>584.000000</td>\n",
       "      <td>32.000000</td>\n",
       "      <td>3.000000</td>\n",
       "      <td>0.000000</td>\n",
       "      <td>1.000000</td>\n",
       "      <td>0.00000</td>\n",
       "      <td>0.000000</td>\n",
       "      <td>51002.110000</td>\n",
       "      <td>0.000000</td>\n",
       "    </tr>\n",
       "    <tr>\n",
       "      <th>50%</th>\n",
       "      <td>1.569074e+07</td>\n",
       "      <td>652.000000</td>\n",
       "      <td>37.000000</td>\n",
       "      <td>5.000000</td>\n",
       "      <td>97198.540000</td>\n",
       "      <td>1.000000</td>\n",
       "      <td>1.00000</td>\n",
       "      <td>1.000000</td>\n",
       "      <td>100193.915000</td>\n",
       "      <td>0.000000</td>\n",
       "    </tr>\n",
       "    <tr>\n",
       "      <th>75%</th>\n",
       "      <td>1.575323e+07</td>\n",
       "      <td>718.000000</td>\n",
       "      <td>44.000000</td>\n",
       "      <td>7.000000</td>\n",
       "      <td>127644.240000</td>\n",
       "      <td>2.000000</td>\n",
       "      <td>1.00000</td>\n",
       "      <td>1.000000</td>\n",
       "      <td>149388.247500</td>\n",
       "      <td>0.000000</td>\n",
       "    </tr>\n",
       "    <tr>\n",
       "      <th>max</th>\n",
       "      <td>1.581569e+07</td>\n",
       "      <td>850.000000</td>\n",
       "      <td>92.000000</td>\n",
       "      <td>10.000000</td>\n",
       "      <td>250898.090000</td>\n",
       "      <td>4.000000</td>\n",
       "      <td>1.00000</td>\n",
       "      <td>1.000000</td>\n",
       "      <td>199992.480000</td>\n",
       "      <td>1.000000</td>\n",
       "    </tr>\n",
       "  </tbody>\n",
       "</table>\n",
       "</div>"
      ],
      "text/plain": [
       "         CustomerId   CreditScore           Age        Tenure        Balance  \\\n",
       "count  1.000000e+04  10000.000000  10000.000000  10000.000000   10000.000000   \n",
       "mean   1.569094e+07    650.528800     38.921800      5.012800   76485.889288   \n",
       "std    7.193619e+04     96.653299     10.487806      2.892174   62397.405202   \n",
       "min    1.556570e+07    350.000000     18.000000      0.000000       0.000000   \n",
       "25%    1.562853e+07    584.000000     32.000000      3.000000       0.000000   \n",
       "50%    1.569074e+07    652.000000     37.000000      5.000000   97198.540000   \n",
       "75%    1.575323e+07    718.000000     44.000000      7.000000  127644.240000   \n",
       "max    1.581569e+07    850.000000     92.000000     10.000000  250898.090000   \n",
       "\n",
       "       NumOfProducts    HasCrCard  IsActiveMember  EstimatedSalary  \\\n",
       "count   10000.000000  10000.00000    10000.000000     10000.000000   \n",
       "mean        1.530200      0.70550        0.515100    100090.239881   \n",
       "std         0.581654      0.45584        0.499797     57510.492818   \n",
       "min         1.000000      0.00000        0.000000        11.580000   \n",
       "25%         1.000000      0.00000        0.000000     51002.110000   \n",
       "50%         1.000000      1.00000        1.000000    100193.915000   \n",
       "75%         2.000000      1.00000        1.000000    149388.247500   \n",
       "max         4.000000      1.00000        1.000000    199992.480000   \n",
       "\n",
       "             Exited  \n",
       "count  10000.000000  \n",
       "mean       0.203700  \n",
       "std        0.402769  \n",
       "min        0.000000  \n",
       "25%        0.000000  \n",
       "50%        0.000000  \n",
       "75%        0.000000  \n",
       "max        1.000000  "
      ]
     },
     "execution_count": 5,
     "metadata": {},
     "output_type": "execute_result"
    }
   ],
   "source": [
    "data.describe()"
   ]
  },
  {
   "cell_type": "code",
   "execution_count": 6,
   "id": "2e3f257a",
   "metadata": {},
   "outputs": [
    {
     "data": {
      "text/plain": [
       "CustomerId         0\n",
       "Surname            0\n",
       "CreditScore        0\n",
       "Geography          0\n",
       "Gender             0\n",
       "Age                0\n",
       "Tenure             0\n",
       "Balance            0\n",
       "NumOfProducts      0\n",
       "HasCrCard          0\n",
       "IsActiveMember     0\n",
       "EstimatedSalary    0\n",
       "Exited             0\n",
       "dtype: int64"
      ]
     },
     "execution_count": 6,
     "metadata": {},
     "output_type": "execute_result"
    }
   ],
   "source": [
    "# to check null values\n",
    "data.isnull().sum()"
   ]
  },
  {
   "cell_type": "code",
   "execution_count": 7,
   "id": "ce978a15",
   "metadata": {},
   "outputs": [
    {
     "name": "stdout",
     "output_type": "stream",
     "text": [
      "Smith       32\n",
      "Scott       29\n",
      "Martin      29\n",
      "Walker      28\n",
      "Brown       26\n",
      "            ..\n",
      "Izmailov     1\n",
      "Bold         1\n",
      "Bonham       1\n",
      "Poninski     1\n",
      "Burbidge     1\n",
      "Name: Surname, Length: 2932, dtype: int64\n",
      "France     5001\n",
      "Germany    2502\n",
      "Spain      2469\n",
      "france        7\n",
      "espanio       6\n",
      "fra           6\n",
      "ger           4\n",
      "spain         2\n",
      "germany       1\n",
      "gernamy       1\n",
      "GERMANY       1\n",
      "Name: Geography, dtype: int64\n",
      "Male      5457\n",
      "Female    4543\n",
      "Name: Gender, dtype: int64\n"
     ]
    }
   ],
   "source": [
    "# to check noise in object type data\n",
    "object_columns = list(data.select_dtypes(include = 'object').columns)\n",
    "for cols in object_columns:\n",
    "    print(data[cols].value_counts())"
   ]
  },
  {
   "cell_type": "code",
   "execution_count": 8,
   "id": "1cde791e",
   "metadata": {},
   "outputs": [
    {
     "data": {
      "text/plain": [
       "France     5014\n",
       "Germany    2509\n",
       "Spain      2477\n",
       "Name: Geography, dtype: int64"
      ]
     },
     "execution_count": 8,
     "metadata": {},
     "output_type": "execute_result"
    }
   ],
   "source": [
    "# Clearing Noise.\n",
    "data['Geography'] = data['Geography'].apply(lambda x: x.title())\n",
    "data['Geography'].replace('Espanio', 'Spain', inplace= True)\n",
    "data['Geography'].replace('Fra','France', inplace= True)\n",
    "data['Geography'].replace(['Gernamy','Ger'],'Germany', inplace = True)\n",
    "data['Geography'].value_counts()"
   ]
  },
  {
   "cell_type": "code",
   "execution_count": 9,
   "id": "81444ec1",
   "metadata": {},
   "outputs": [
    {
     "name": "stdout",
     "output_type": "stream",
     "text": [
      "<class 'pandas.core.frame.DataFrame'>\n",
      "RangeIndex: 10000 entries, 0 to 9999\n",
      "Data columns (total 13 columns):\n",
      " #   Column           Non-Null Count  Dtype   \n",
      "---  ------           --------------  -----   \n",
      " 0   CustomerId       10000 non-null  int64   \n",
      " 1   Surname          10000 non-null  object  \n",
      " 2   CreditScore      10000 non-null  int64   \n",
      " 3   Geography        10000 non-null  category\n",
      " 4   Gender           10000 non-null  category\n",
      " 5   Age              10000 non-null  int64   \n",
      " 6   Tenure           10000 non-null  int64   \n",
      " 7   Balance          10000 non-null  float64 \n",
      " 8   NumOfProducts    10000 non-null  int64   \n",
      " 9   HasCrCard        10000 non-null  int64   \n",
      " 10  IsActiveMember   10000 non-null  int64   \n",
      " 11  EstimatedSalary  10000 non-null  float64 \n",
      " 12  Exited           10000 non-null  int64   \n",
      "dtypes: category(2), float64(2), int64(8), object(1)\n",
      "memory usage: 879.3+ KB\n"
     ]
    }
   ],
   "source": [
    "# converting object columns into categorical to encode\n",
    "data1 = data.copy()\n",
    "object_columns.remove('Surname')\n",
    "data1[object_columns] = data1[object_columns].astype('category')\n",
    "data1.info()"
   ]
  },
  {
   "cell_type": "code",
   "execution_count": 10,
   "id": "a035c1de",
   "metadata": {},
   "outputs": [
    {
     "data": {
      "text/html": [
       "<div>\n",
       "<style scoped>\n",
       "    .dataframe tbody tr th:only-of-type {\n",
       "        vertical-align: middle;\n",
       "    }\n",
       "\n",
       "    .dataframe tbody tr th {\n",
       "        vertical-align: top;\n",
       "    }\n",
       "\n",
       "    .dataframe thead th {\n",
       "        text-align: right;\n",
       "    }\n",
       "</style>\n",
       "<table border=\"1\" class=\"dataframe\">\n",
       "  <thead>\n",
       "    <tr style=\"text-align: right;\">\n",
       "      <th></th>\n",
       "      <th>CustomerId</th>\n",
       "      <th>Surname</th>\n",
       "      <th>CreditScore</th>\n",
       "      <th>Geography</th>\n",
       "      <th>Gender</th>\n",
       "      <th>Age</th>\n",
       "      <th>Tenure</th>\n",
       "      <th>Balance</th>\n",
       "      <th>NumOfProducts</th>\n",
       "      <th>HasCrCard</th>\n",
       "      <th>IsActiveMember</th>\n",
       "      <th>EstimatedSalary</th>\n",
       "      <th>Exited</th>\n",
       "    </tr>\n",
       "  </thead>\n",
       "  <tbody>\n",
       "    <tr>\n",
       "      <th>0</th>\n",
       "      <td>15634602</td>\n",
       "      <td>Hargrave</td>\n",
       "      <td>619</td>\n",
       "      <td>0</td>\n",
       "      <td>0</td>\n",
       "      <td>42</td>\n",
       "      <td>2</td>\n",
       "      <td>0.00</td>\n",
       "      <td>1</td>\n",
       "      <td>1</td>\n",
       "      <td>1</td>\n",
       "      <td>101348.88</td>\n",
       "      <td>1</td>\n",
       "    </tr>\n",
       "    <tr>\n",
       "      <th>1</th>\n",
       "      <td>15647311</td>\n",
       "      <td>Hill</td>\n",
       "      <td>608</td>\n",
       "      <td>2</td>\n",
       "      <td>0</td>\n",
       "      <td>41</td>\n",
       "      <td>1</td>\n",
       "      <td>83807.86</td>\n",
       "      <td>1</td>\n",
       "      <td>0</td>\n",
       "      <td>1</td>\n",
       "      <td>112542.58</td>\n",
       "      <td>0</td>\n",
       "    </tr>\n",
       "    <tr>\n",
       "      <th>2</th>\n",
       "      <td>15619304</td>\n",
       "      <td>Onio</td>\n",
       "      <td>502</td>\n",
       "      <td>0</td>\n",
       "      <td>0</td>\n",
       "      <td>42</td>\n",
       "      <td>8</td>\n",
       "      <td>159660.80</td>\n",
       "      <td>3</td>\n",
       "      <td>1</td>\n",
       "      <td>0</td>\n",
       "      <td>113931.57</td>\n",
       "      <td>1</td>\n",
       "    </tr>\n",
       "    <tr>\n",
       "      <th>3</th>\n",
       "      <td>15701354</td>\n",
       "      <td>Boni</td>\n",
       "      <td>699</td>\n",
       "      <td>0</td>\n",
       "      <td>0</td>\n",
       "      <td>39</td>\n",
       "      <td>1</td>\n",
       "      <td>0.00</td>\n",
       "      <td>2</td>\n",
       "      <td>0</td>\n",
       "      <td>0</td>\n",
       "      <td>93826.63</td>\n",
       "      <td>0</td>\n",
       "    </tr>\n",
       "    <tr>\n",
       "      <th>4</th>\n",
       "      <td>15737888</td>\n",
       "      <td>Mitchell</td>\n",
       "      <td>850</td>\n",
       "      <td>2</td>\n",
       "      <td>0</td>\n",
       "      <td>43</td>\n",
       "      <td>2</td>\n",
       "      <td>125510.82</td>\n",
       "      <td>1</td>\n",
       "      <td>1</td>\n",
       "      <td>1</td>\n",
       "      <td>79084.10</td>\n",
       "      <td>0</td>\n",
       "    </tr>\n",
       "  </tbody>\n",
       "</table>\n",
       "</div>"
      ],
      "text/plain": [
       "   CustomerId   Surname  CreditScore  Geography  Gender  Age  Tenure  \\\n",
       "0    15634602  Hargrave          619          0       0   42       2   \n",
       "1    15647311      Hill          608          2       0   41       1   \n",
       "2    15619304      Onio          502          0       0   42       8   \n",
       "3    15701354      Boni          699          0       0   39       1   \n",
       "4    15737888  Mitchell          850          2       0   43       2   \n",
       "\n",
       "     Balance  NumOfProducts  HasCrCard  IsActiveMember  EstimatedSalary  \\\n",
       "0       0.00              1          1               1        101348.88   \n",
       "1   83807.86              1          0               1        112542.58   \n",
       "2  159660.80              3          1               0        113931.57   \n",
       "3       0.00              2          0               0         93826.63   \n",
       "4  125510.82              1          1               1         79084.10   \n",
       "\n",
       "   Exited  \n",
       "0       1  \n",
       "1       0  \n",
       "2       1  \n",
       "3       0  \n",
       "4       0  "
      ]
     },
     "execution_count": 10,
     "metadata": {},
     "output_type": "execute_result"
    }
   ],
   "source": [
    "# converting categorical data into numerical\n",
    "data1[object_columns] = data1[object_columns].apply(LabelEncoder().fit_transform)\n",
    "data1.head()"
   ]
  },
  {
   "cell_type": "markdown",
   "id": "e54cfffd",
   "metadata": {},
   "source": [
    "### Explaratory Data Analysis"
   ]
  },
  {
   "cell_type": "code",
   "execution_count": 11,
   "id": "4cda4b64",
   "metadata": {},
   "outputs": [
    {
     "name": "stdout",
     "output_type": "stream",
     "text": [
      "15\n"
     ]
    },
    {
     "data": {
      "image/png": "[encoded data removed]",
      "text/plain": [
       "<Figure size 1440x720 with 9 Axes>"
      ]
     },
     "metadata": {
      "needs_background": "light"
     },
     "output_type": "display_data"
    }
   ],
   "source": [
    "# Univariate Analysis on all numerical columns\n",
    "new_df = data.select_dtypes(include = np.number)\n",
    "new_df.drop(columns = 'CustomerId', inplace= True)\n",
    "numeric_cols = new_df.columns\n",
    "num_cols = 3\n",
    "\n",
    "#To decide on the bin size using Sturge’s rule\n",
    "#bins=1+ceil(log2(n)) #research\n",
    "  \n",
    "bin_count = int(np.ceil(np.log2(len(new_df.axes[0]))) + 1)\n",
    "n_bins = bin_count\n",
    "print(n_bins)\n",
    "\n",
    "# compute number of rows for plot \n",
    "num_rows= int(len(numeric_cols)/num_cols)\n",
    "# setting canvas for plotting\n",
    "fig, axs = plt.subplots(num_rows,num_cols, tight_layout=True,figsize=(20,10))\n",
    "# plotting the numerical columns\n",
    "for col, ax in zip(numeric_cols,axs.flatten()[:len(numeric_cols)]):\n",
    "    ax.hist(new_df[col],bins=n_bins,density=True)\n",
    "    ax.set_title(col)\n",
    "plt.show()"
   ]
  },
  {
   "cell_type": "raw",
   "id": "29389ec7",
   "metadata": {},
   "source": [
    "1. Creditscore     -  Most customers are in the credit score range of 550 - 750.\n",
    "2. Age             -  Higher number of  customers belong to age group 35-40.\n",
    "3. Tenure          -  Similar number of customers at all tenure years.\n",
    "4. Balance         -  Most customers have balance in the range of 100000 - 1500000.\n",
    "5. NumofProducts   -  Large number of customers only hold 1-2 bank products.\n",
    "6. HasCrCard       -  No. of Customers who have credit cars are higher.\n",
    "7. IsActiveMember  -  Almost half the customers are not active bank.\n",
    "8. EstimatedSalary -  Almost equal number of customers in all salary range. \n",
    "9. Exited          -  Significant number of the customers have churned out from the bank."
   ]
  },
  {
   "cell_type": "code",
   "execution_count": 12,
   "id": "c20dd554",
   "metadata": {},
   "outputs": [
    {
     "data": {
      "image/png": "[encoded data removed]",
      "text/plain": [
       "<Figure size 720x360 with 2 Axes>"
      ]
     },
     "metadata": {
      "needs_background": "light"
     },
     "output_type": "display_data"
    }
   ],
   "source": [
    "plt.figure(figsize = (10,5))\n",
    "plt.subplot(121)\n",
    "sb.countplot(data = data, x = 'Gender')\n",
    "plt.title('Gender')\n",
    "plt.subplot(122)\n",
    "sb.countplot(data = data, x = 'Geography')\n",
    "plt.title('Geography')\n",
    "plt.show()"
   ]
  },
  {
   "cell_type": "raw",
   "id": "75c688d9",
   "metadata": {},
   "source": [
    "1. Gender    - 60% of the bank customers are Males.\n",
    "2. Geography - Higher number of customers resides in France, while Spain and Germany have equal number of customers."
   ]
  },
  {
   "cell_type": "code",
   "execution_count": 13,
   "id": "9f55e9a0",
   "metadata": {},
   "outputs": [
    {
     "data": {
      "text/plain": [
       "<AxesSubplot:xlabel='Age', ylabel='Count'>"
      ]
     },
     "execution_count": 13,
     "metadata": {},
     "output_type": "execute_result"
    },
    {
     "data": {
      "image/png": "[encoded data removed]",
      "text/plain": [
       "<Figure size 432x288 with 1 Axes>"
      ]
     },
     "metadata": {
      "needs_background": "light"
     },
     "output_type": "display_data"
    }
   ],
   "source": [
    "sb.histplot(data = data,x = 'Age', hue ='Exited', bins = 10)"
   ]
  },
  {
   "cell_type": "code",
   "execution_count": 14,
   "id": "013db5d6",
   "metadata": {},
   "outputs": [
    {
     "data": {
      "image/png": "[encoded data removed]",
      "text/plain": [
       "<Figure size 1440x1080 with 9 Axes>"
      ]
     },
     "metadata": {
      "needs_background": "light"
     },
     "output_type": "display_data"
    }
   ],
   "source": [
    "# Bivariate Analysis with respect to people who have exited.\n",
    "plt.figure(figsize =(20,15))\n",
    "plt.subplot(331)\n",
    "sb.histplot(data = data,x = 'Age', hue ='Exited', bins = 10)\n",
    "plt.title('Age vs Exited')\n",
    "\n",
    "plt.subplot(332)\n",
    "sb.countplot(data = data,x = 'Geography', hue='Exited')\n",
    "plt.title('Geography vs Exited')\n",
    "\n",
    "plt.subplot(333)\n",
    "sb.countplot(data = data,x = 'Gender', hue='Exited')\n",
    "plt.title('Gender vs Exited')\n",
    "\n",
    "plt.subplot(334)\n",
    "sb.histplot(data = data,x = 'Tenure', hue='Exited')\n",
    "plt.title('Tenure vs Exited')\n",
    "\n",
    "plt.subplot(335)\n",
    "sb.histplot(data = data,x = 'HasCrCard', hue='Exited')\n",
    "plt.title('HasCrCard vs Exited')\n",
    "\n",
    "plt.subplot(336)\n",
    "sb.histplot(data = data,x = 'NumOfProducts', hue='Exited')\n",
    "plt.title('NumOfProducts vs Exited')\n",
    "\n",
    "plt.subplot(337)\n",
    "sb.histplot(data = data,x = 'IsActiveMember', hue='Exited')\n",
    "plt.title('IsActiveMember vs Exited')\n",
    "\n",
    "plt.subplot(338)\n",
    "sb.histplot(data = data,x = 'Balance', hue='Exited', bins = 8)\n",
    "plt.title('Balance vs Exited')\n",
    "\n",
    "plt.subplot(339)\n",
    "sb.histplot(data = data,x = 'EstimatedSalary', hue='Exited', bins = 8)\n",
    "plt.title('EstimatedSalary vs Exited')\n",
    "\n",
    "plt.show()"
   ]
  },
  {
   "cell_type": "raw",
   "id": "61b07e15",
   "metadata": {},
   "source": [
    "1. Age vs Exited             - No. of Customers in the age group 50-55 are less compared to people who have left the bank.\n",
    "2. Geography vs Exited       - Germany has high ratio for customers who have left vs staying.\n",
    "3. Gender vs Exited          - Female customers have left more than male customers.\n",
    "4. Tenure vs Exited          - Customers who are leaving at different tenure years are normally distributed.\n",
    "5. HasCrCard vs Exited       - The ratio is almost similar for customers who have or doesn't have credit card.\n",
    "6. NumOfProducts vs Exited   - More number of Customers who had higher number of products have left .\n",
    "7. IsActiveMember vs Exited  - Higher number of inactive customers have left the bank.\n",
    "8. Balance vs Exited         - Most customers have less than 50000 balance.\n",
    "9. EstimatedSalary vs Exited - Salary is equally distributed for both staying and churned out customers."
   ]
  },
  {
   "cell_type": "markdown",
   "id": "f6bc3aea",
   "metadata": {},
   "source": [
    "### Choosing best features and scaling"
   ]
  },
  {
   "cell_type": "code",
   "execution_count": 15,
   "id": "25cea9a5",
   "metadata": {},
   "outputs": [
    {
     "data": {
      "image/png": "[encoded data removed]",
      "text/plain": [
       "<Figure size 1080x432 with 2 Axes>"
      ]
     },
     "metadata": {
      "needs_background": "light"
     },
     "output_type": "display_data"
    }
   ],
   "source": [
    "# Selecting features based on correlation\n",
    "corr = data1.iloc[:,2:].corr()\n",
    "plt.figure(figsize = (15,6))\n",
    "sb.heatmap(corr, annot = True)\n",
    "plt.show()"
   ]
  },
  {
   "cell_type": "code",
   "execution_count": 16,
   "id": "8a52fd67",
   "metadata": {},
   "outputs": [
    {
     "data": {
      "text/plain": [
       "Exited             100.000000\n",
       "Age                 28.532304\n",
       "IsActiveMember      15.612828\n",
       "Balance             11.853277\n",
       "Gender              10.651249\n",
       "NumOfProducts        4.781986\n",
       "Geography            3.594295\n",
       "CreditScore          2.709354\n",
       "Tenure               1.400061\n",
       "EstimatedSalary      1.209686\n",
       "HasCrCard            0.713777\n",
       "Name: Exited, dtype: float64"
      ]
     },
     "execution_count": 16,
     "metadata": {},
     "output_type": "execute_result"
    }
   ],
   "source": [
    "corr['Exited'] = corr['Exited'].apply(lambda x : x *-1 if x < 0 else x)\n",
    "(corr['Exited'].sort_values(ascending = False)) * 100"
   ]
  },
  {
   "cell_type": "code",
   "execution_count": 17,
   "id": "32b0123a",
   "metadata": {},
   "outputs": [
    {
     "data": {
      "text/plain": [
       "0       1\n",
       "1       0\n",
       "2       1\n",
       "3       0\n",
       "4       0\n",
       "       ..\n",
       "9995    0\n",
       "9996    0\n",
       "9997    1\n",
       "9998    1\n",
       "9999    0\n",
       "Name: Exited, Length: 10000, dtype: int64"
      ]
     },
     "execution_count": 17,
     "metadata": {},
     "output_type": "execute_result"
    }
   ],
   "source": [
    "# Taking top 5 features with high correlation with Exited\n",
    "x = data1[['Age','IsActiveMember','Balance','Gender']]\n",
    "y = data1['Exited']\n",
    "y"
   ]
  },
  {
   "cell_type": "code",
   "execution_count": 18,
   "id": "20bd2953",
   "metadata": {},
   "outputs": [
    {
     "data": {
      "text/html": [
       "<div>\n",
       "<style scoped>\n",
       "    .dataframe tbody tr th:only-of-type {\n",
       "        vertical-align: middle;\n",
       "    }\n",
       "\n",
       "    .dataframe tbody tr th {\n",
       "        vertical-align: top;\n",
       "    }\n",
       "\n",
       "    .dataframe thead th {\n",
       "        text-align: right;\n",
       "    }\n",
       "</style>\n",
       "<table border=\"1\" class=\"dataframe\">\n",
       "  <thead>\n",
       "    <tr style=\"text-align: right;\">\n",
       "      <th></th>\n",
       "      <th>Age</th>\n",
       "      <th>IsActiveMember</th>\n",
       "      <th>Balance</th>\n",
       "      <th>Gender</th>\n",
       "    </tr>\n",
       "  </thead>\n",
       "  <tbody>\n",
       "    <tr>\n",
       "      <th>0</th>\n",
       "      <td>0.324324</td>\n",
       "      <td>1.0</td>\n",
       "      <td>0.000000</td>\n",
       "      <td>0.0</td>\n",
       "    </tr>\n",
       "    <tr>\n",
       "      <th>1</th>\n",
       "      <td>0.310811</td>\n",
       "      <td>1.0</td>\n",
       "      <td>0.334031</td>\n",
       "      <td>0.0</td>\n",
       "    </tr>\n",
       "    <tr>\n",
       "      <th>2</th>\n",
       "      <td>0.324324</td>\n",
       "      <td>0.0</td>\n",
       "      <td>0.636357</td>\n",
       "      <td>0.0</td>\n",
       "    </tr>\n",
       "    <tr>\n",
       "      <th>3</th>\n",
       "      <td>0.283784</td>\n",
       "      <td>0.0</td>\n",
       "      <td>0.000000</td>\n",
       "      <td>0.0</td>\n",
       "    </tr>\n",
       "    <tr>\n",
       "      <th>4</th>\n",
       "      <td>0.337838</td>\n",
       "      <td>1.0</td>\n",
       "      <td>0.500246</td>\n",
       "      <td>0.0</td>\n",
       "    </tr>\n",
       "    <tr>\n",
       "      <th>...</th>\n",
       "      <td>...</td>\n",
       "      <td>...</td>\n",
       "      <td>...</td>\n",
       "      <td>...</td>\n",
       "    </tr>\n",
       "    <tr>\n",
       "      <th>9995</th>\n",
       "      <td>0.283784</td>\n",
       "      <td>0.0</td>\n",
       "      <td>0.000000</td>\n",
       "      <td>1.0</td>\n",
       "    </tr>\n",
       "    <tr>\n",
       "      <th>9996</th>\n",
       "      <td>0.229730</td>\n",
       "      <td>1.0</td>\n",
       "      <td>0.228657</td>\n",
       "      <td>1.0</td>\n",
       "    </tr>\n",
       "    <tr>\n",
       "      <th>9997</th>\n",
       "      <td>0.243243</td>\n",
       "      <td>1.0</td>\n",
       "      <td>0.000000</td>\n",
       "      <td>0.0</td>\n",
       "    </tr>\n",
       "    <tr>\n",
       "      <th>9998</th>\n",
       "      <td>0.324324</td>\n",
       "      <td>0.0</td>\n",
       "      <td>0.299226</td>\n",
       "      <td>1.0</td>\n",
       "    </tr>\n",
       "    <tr>\n",
       "      <th>9999</th>\n",
       "      <td>0.135135</td>\n",
       "      <td>0.0</td>\n",
       "      <td>0.518708</td>\n",
       "      <td>0.0</td>\n",
       "    </tr>\n",
       "  </tbody>\n",
       "</table>\n",
       "<p>10000 rows × 4 columns</p>\n",
       "</div>"
      ],
      "text/plain": [
       "           Age  IsActiveMember   Balance  Gender\n",
       "0     0.324324             1.0  0.000000     0.0\n",
       "1     0.310811             1.0  0.334031     0.0\n",
       "2     0.324324             0.0  0.636357     0.0\n",
       "3     0.283784             0.0  0.000000     0.0\n",
       "4     0.337838             1.0  0.500246     0.0\n",
       "...        ...             ...       ...     ...\n",
       "9995  0.283784             0.0  0.000000     1.0\n",
       "9996  0.229730             1.0  0.228657     1.0\n",
       "9997  0.243243             1.0  0.000000     0.0\n",
       "9998  0.324324             0.0  0.299226     1.0\n",
       "9999  0.135135             0.0  0.518708     0.0\n",
       "\n",
       "[10000 rows x 4 columns]"
      ]
     },
     "execution_count": 18,
     "metadata": {},
     "output_type": "execute_result"
    }
   ],
   "source": [
    "# scaling Features\n",
    "scaled_x = pd.DataFrame(MinMaxScaler().fit_transform(x), columns = x.columns)\n",
    "scaled_x"
   ]
  },
  {
   "cell_type": "code",
   "execution_count": 19,
   "id": "29b959a3",
   "metadata": {},
   "outputs": [
    {
     "name": "stdout",
     "output_type": "stream",
     "text": [
      "(10000, 4) (10000,)\n"
     ]
    }
   ],
   "source": [
    "print(scaled_x.shape, y.shape)"
   ]
  },
  {
   "cell_type": "markdown",
   "id": "d313c8c7",
   "metadata": {},
   "source": [
    "### Splitting data for Train and Test"
   ]
  },
  {
   "cell_type": "code",
   "execution_count": 20,
   "id": "332b6ef1",
   "metadata": {},
   "outputs": [
    {
     "name": "stdout",
     "output_type": "stream",
     "text": [
      "(7000, 4) (3000, 4) (7000,) (3000,)\n"
     ]
    }
   ],
   "source": [
    "# Train test split\n",
    "x_train, x_test, y_train, y_test = train_test_split(scaled_x, y , test_size= 0.3, random_state= 42)\n",
    "print(x_train.shape,x_test.shape,y_train.shape,y_test.shape)"
   ]
  },
  {
   "cell_type": "markdown",
   "id": "402a39b6",
   "metadata": {},
   "source": [
    "### Model 1 - Logistic Regression"
   ]
  },
  {
   "cell_type": "code",
   "execution_count": 21,
   "id": "a1a371f8",
   "metadata": {},
   "outputs": [
    {
     "name": "stdout",
     "output_type": "stream",
     "text": [
      "[[2354   62]\n",
      " [ 496   88]]\n"
     ]
    }
   ],
   "source": [
    "# Training the model\n",
    "LR_model = LogisticRegression().fit(x_train, y_train)\n",
    "\n",
    "# Predicting\n",
    "LR_y_predict = LR_model.predict(x_test)\n",
    "\n",
    "# Performance metrics\n",
    "LR_Accuracy  =  accuracy_score(y_test, LR_y_predict)\n",
    "LR_Precision =  precision_score(y_test, LR_y_predict)\n",
    "LR_recall    =  recall_score(y_test, LR_y_predict)\n",
    "LR_f1        =  f1_score(y_test, LR_y_predict)\n",
    "LR_AUC       =  roc_auc_score(y_test, LR_y_predict)\n",
    "# Confusion Matrix\n",
    "print(confusion_matrix(y_test, LR_y_predict))"
   ]
  },
  {
   "cell_type": "markdown",
   "id": "715424b4",
   "metadata": {},
   "source": [
    "### Model 2 - Decision Tree Classifier"
   ]
  },
  {
   "cell_type": "code",
   "execution_count": 22,
   "id": "7d3c93a4",
   "metadata": {},
   "outputs": [
    {
     "name": "stdout",
     "output_type": "stream",
     "text": [
      "\n",
      "max depth: 1\n",
      "F1 score : 0.0\n",
      "\n",
      "max depth: 2\n",
      "F1 score : 0.465\n",
      "\n",
      "max depth: 3\n",
      "F1 score : 0.292\n",
      "\n",
      "max depth: 4\n",
      "F1 score : 0.44\n",
      "\n",
      "max depth: 5\n",
      "F1 score : 0.413\n",
      "\n",
      "max depth: 6\n",
      "F1 score : 0.435\n",
      "\n",
      "max depth: 7\n",
      "F1 score : 0.416\n",
      "\n",
      "max depth: 8\n",
      "F1 score : 0.417\n",
      "\n",
      "max depth: 9\n",
      "F1 score : 0.423\n"
     ]
    }
   ],
   "source": [
    "# Checking max_depth with cross validation\n",
    "\n",
    "max_depth = np.arange(1,10)\n",
    "kf = RepeatedStratifiedKFold(n_splits = 20, random_state = None)\n",
    "for val in max_depth:\n",
    "    score = cross_val_score(DecisionTreeClassifier(max_depth = val, random_state = 42), scaled_x, y, cv = kf, scoring=\"f1\")\n",
    "    print(\"\\nmax depth:\",val)\n",
    "    print(\"F1 score :\",round(score.mean(),3))"
   ]
  },
  {
   "cell_type": "markdown",
   "id": "668e67f0",
   "metadata": {},
   "source": [
    "##### F1 score is higher at max depth = 6."
   ]
  },
  {
   "cell_type": "code",
   "execution_count": 23,
   "id": "10466840",
   "metadata": {},
   "outputs": [
    {
     "name": "stdout",
     "output_type": "stream",
     "text": [
      "[[2357   59]\n",
      " [ 445  139]]\n"
     ]
    }
   ],
   "source": [
    "# Training the model\n",
    "DTC_model = DecisionTreeClassifier(max_depth = 6).fit(x_train, y_train)\n",
    "\n",
    "# Predicting\n",
    "DTC_y_predict = DTC_model.predict(x_test)\n",
    "\n",
    "# Performance metrics\n",
    "DTC_Accuracy  =  accuracy_score(y_test, DTC_y_predict)\n",
    "DTC_Precision =  precision_score(y_test, DTC_y_predict)\n",
    "DTC_recall    =  recall_score(y_test, DTC_y_predict)\n",
    "DTC_f1        =  f1_score(y_test, DTC_y_predict)\n",
    "DTC_AUC       =  roc_auc_score(y_test, DTC_y_predict)\n",
    "\n",
    "# Confusion Matrix\n",
    "print(confusion_matrix(y_test, DTC_y_predict))"
   ]
  },
  {
   "cell_type": "markdown",
   "id": "4949f355",
   "metadata": {},
   "source": [
    "### Model 3 - Bagging with Random ForestRandom Forest Classifer"
   ]
  },
  {
   "cell_type": "code",
   "execution_count": 24,
   "id": "f890a410",
   "metadata": {},
   "outputs": [
    {
     "name": "stdout",
     "output_type": "stream",
     "text": [
      "Fitting 4 folds for each of 180 candidates, totalling 720 fits\n"
     ]
    },
    {
     "data": {
      "text/plain": [
       "RandomForestClassifier(max_depth=10, min_samples_leaf=5, n_estimators=200,\n",
       "                       n_jobs=-1, random_state=42)"
      ]
     },
     "execution_count": 24,
     "metadata": {},
     "output_type": "execute_result"
    }
   ],
   "source": [
    "rf = RandomForestClassifier(random_state=42, n_jobs=-1)\n",
    "params = {\n",
    " 'max_depth': [2,3,5,10,20],\n",
    " 'min_samples_leaf': [5,10,20,50,100,200],\n",
    " 'n_estimators': [10,25,30,50,100,200]\n",
    "}\n",
    "grid_search = GridSearchCV(estimator = rf,\n",
    "                           param_grid = params,\n",
    "                           cv = 4,\n",
    "                           n_jobs = -1, verbose = 3, scoring=\"f1\")\n",
    "grid_search.fit(x_train,y_train)\n",
    "grid_search.best_estimator_"
   ]
  },
  {
   "cell_type": "code",
   "execution_count": 39,
   "id": "2c5324eb",
   "metadata": {},
   "outputs": [
    {
     "name": "stdout",
     "output_type": "stream",
     "text": [
      "[[2322   94]\n",
      " [ 395  189]]\n"
     ]
    }
   ],
   "source": [
    "# Training the model\n",
    "RFC_model = RandomForestClassifier(max_depth=10, min_samples_leaf=5, n_estimators=200,n_jobs=-1, random_state=42)\n",
    "RFC_model.fit(x_train, y_train)\n",
    "\n",
    "# Predicting\n",
    "RFC_y_predict = RFC_model.predict(x_test)\n",
    "\n",
    "# Performance metrics\n",
    "RFC_Accuracy  =  accuracy_score(y_test, RFC_y_predict)\n",
    "RFC_Precision =  precision_score(y_test, RFC_y_predict)\n",
    "RFC_recall    =  recall_score(y_test, RFC_y_predict)\n",
    "RFC_f1        =  f1_score(y_test, RFC_y_predict)\n",
    "RFC_AUC       =  roc_auc_score(y_test, RFC_y_predict)\n",
    "\n",
    "\n",
    "# Confusion Matrix\n",
    "print(confusion_matrix(y_test, RFC_y_predict))"
   ]
  },
  {
   "cell_type": "markdown",
   "id": "72602c07",
   "metadata": {},
   "source": [
    "### Model 4 - AdaBoost Classifier"
   ]
  },
  {
   "cell_type": "code",
   "execution_count": 26,
   "id": "76108522",
   "metadata": {},
   "outputs": [
    {
     "name": "stdout",
     "output_type": "stream",
     "text": [
      "[[2315  101]\n",
      " [ 374  210]]\n"
     ]
    }
   ],
   "source": [
    "# define the model\n",
    "AB_model = AdaBoostClassifier().fit(x_train, y_train)\n",
    "\n",
    "# Predicting\n",
    "AB_y_predict = AB_model.predict(x_test)\n",
    "\n",
    "# Performance metrics\n",
    "AB_Accuracy  =  accuracy_score(y_test, AB_y_predict)\n",
    "AB_Precision =  precision_score(y_test, AB_y_predict)\n",
    "AB_recall    =  recall_score(y_test, AB_y_predict)\n",
    "AB_f1        =  f1_score(y_test, AB_y_predict)\n",
    "AB_AUC       =  roc_auc_score(y_test, AB_y_predict)\n",
    "\n",
    "# Confusion Matrix\n",
    "print(confusion_matrix(y_test, AB_y_predict))"
   ]
  },
  {
   "cell_type": "markdown",
   "id": "050f66be",
   "metadata": {},
   "source": [
    "### Model 5 - Stacking Classifers"
   ]
  },
  {
   "cell_type": "code",
   "execution_count": 27,
   "id": "9f34bed4",
   "metadata": {},
   "outputs": [],
   "source": [
    "# get a stacking ensemble of models\n",
    "def get_stacking():\n",
    "# define the base models\n",
    "    level0 = list()\n",
    "    level0.append(('lr', LogisticRegression()))\n",
    "    level0.append(('knn', KNeighborsClassifier()))\n",
    "    level0.append(('cart', DecisionTreeClassifier()))\n",
    "    level0.append(('bayes', GaussianNB()))\n",
    "    # define meta learner model\n",
    "    level1 = LogisticRegression()\n",
    "    # define the stacking ensemble\n",
    "    model = StackingClassifier(estimators=level0, final_estimator=level1, cv=5) # for 5 folds\n",
    "    return model"
   ]
  },
  {
   "cell_type": "code",
   "execution_count": 28,
   "id": "939c6110",
   "metadata": {},
   "outputs": [
    {
     "name": "stdout",
     "output_type": "stream",
     "text": [
      "[[2363   53]\n",
      " [ 427  157]]\n"
     ]
    }
   ],
   "source": [
    "# define the model\n",
    "stack_model = get_stacking()\n",
    "stack_model.fit(x_train, y_train)\n",
    "\n",
    "# Predicting\n",
    "stack_y_predict = stack_model.predict(x_test)\n",
    "\n",
    "# Performance metrics\n",
    "stack_Accuracy  =  accuracy_score(y_test, stack_y_predict)\n",
    "stack_Precision =  precision_score(y_test, stack_y_predict)\n",
    "stack_recall    =  recall_score(y_test, stack_y_predict)\n",
    "stack_f1        =  f1_score(y_test, stack_y_predict)\n",
    "stack_AUC       =  roc_auc_score(y_test, stack_y_predict)\n",
    "\n",
    "# Confusion Matrix\n",
    "print(confusion_matrix(y_test, stack_y_predict))"
   ]
  },
  {
   "cell_type": "markdown",
   "id": "2580bf42",
   "metadata": {},
   "source": [
    "### Cross validation for all models"
   ]
  },
  {
   "cell_type": "code",
   "execution_count": 45,
   "id": "8bcc8672",
   "metadata": {},
   "outputs": [],
   "source": [
    "# 1. Logisitic Regression\n",
    "# evaluate the model\n",
    "cv = RepeatedStratifiedKFold(n_splits = 10, n_repeats = 3, random_state=1)\n",
    "accuracy_LR = cross_val_score(LR_model, scaled_x, y, scoring = 'accuracy', cv = cv, n_jobs = -1, error_score = 'raise').mean()\n",
    "recall_LR = cross_val_score(LR_model, scaled_x, y, scoring = 'recall', cv = cv, n_jobs = -1, error_score = 'raise').mean()\n",
    "f1_LR = cross_val_score(LR_model, scaled_x, y, scoring = 'f1', cv = cv, n_jobs = -1, error_score = 'raise').mean()\n",
    "precision_LR = cross_val_score(LR_model, scaled_x, y, scoring = 'precision', cv = cv, n_jobs = -1, error_score = 'raise').mean()\n",
    "roc_auc_LR = cross_val_score(LR_model, scaled_x, y, scoring = 'roc_auc', cv = cv, n_jobs = -1, error_score = 'raise').mean()"
   ]
  },
  {
   "cell_type": "code",
   "execution_count": 43,
   "id": "9b53fa22",
   "metadata": {},
   "outputs": [],
   "source": [
    "# 2. Decision Tree Classifier\n",
    "# evaluate the model\n",
    "accuracy_DTC = cross_val_score(DTC_model, scaled_x, y, scoring = 'accuracy', cv = cv, n_jobs = -1, error_score = 'raise').mean()\n",
    "recall_DTC = cross_val_score(DTC_model, scaled_x, y, scoring = 'recall', cv = cv, n_jobs = -1, error_score = 'raise').mean()\n",
    "f1_DTC = cross_val_score(DTC_model, scaled_x, y, scoring = 'f1', cv = cv, n_jobs = -1, error_score = 'raise').mean()\n",
    "precision_DTC = cross_val_score(DTC_model, scaled_x, y, scoring = 'precision', cv = cv, n_jobs = -1, error_score = 'raise').mean()\n",
    "roc_auc_DTC = cross_val_score(DTC_model, scaled_x, y, scoring = 'roc_auc', cv = cv, n_jobs = -1, error_score = 'raise').mean()"
   ]
  },
  {
   "cell_type": "code",
   "execution_count": 44,
   "id": "fc81aece",
   "metadata": {},
   "outputs": [],
   "source": [
    "# 3. Random Forest Classifier\n",
    "# evaluate the model\n",
    "accuracy_RFC = cross_val_score(RFC_model, scaled_x, y, scoring = 'accuracy', cv = cv, n_jobs = -1, error_score = 'raise').mean()\n",
    "recall_RFC = cross_val_score(RFC_model, scaled_x, y, scoring = 'recall', cv = cv, n_jobs = -1, error_score = 'raise').mean()\n",
    "f1_RFC = cross_val_score(RFC_model, scaled_x, y, scoring = 'f1', cv = cv, n_jobs = -1, error_score = 'raise').mean()\n",
    "precision_DTC = cross_val_score(RFC_model, scaled_x, y, scoring = 'precision', cv = cv, n_jobs = -1, error_score = 'raise').mean()\n",
    "roc_auc_DTC = cross_val_score(RFC_model, scaled_x, y, scoring = 'roc_auc', cv = cv, n_jobs = -1, error_score = 'raise').mean()\n"
   ]
  },
  {
   "cell_type": "code",
   "execution_count": 46,
   "id": "5a833e0f",
   "metadata": {},
   "outputs": [],
   "source": [
    "# 4. AdaBoost Classifier\n",
    "# evaluate the model\n",
    "accuracy_AB = cross_val_score(AB_model, scaled_x, y, scoring = 'accuracy', cv = cv, n_jobs = -1, error_score = 'raise').mean()\n",
    "recall_AB = cross_val_score(AB_model, scaled_x, y, scoring = 'recall', cv = cv, n_jobs = -1, error_score = 'raise').mean()\n",
    "f1_AB = cross_val_score(AB_model, scaled_x, y, scoring = 'f1', cv = cv, n_jobs = -1, error_score = 'raise').mean()\n",
    "precision_AB = cross_val_score(AB_model, scaled_x, y, scoring = 'precision', cv = cv, n_jobs = -1, error_score = 'raise').mean()\n",
    "roc_auc_AB = cross_val_score(AB_model, scaled_x, y, scoring = 'roc_auc', cv = cv, n_jobs = -1, error_score = 'raise').mean()\n"
   ]
  },
  {
   "cell_type": "code",
   "execution_count": 47,
   "id": "47048b6b",
   "metadata": {},
   "outputs": [],
   "source": [
    "# 5. Stacking Classifier\n",
    "# evaluate the model\n",
    "accuracy_stack = cross_val_score(stack_model, scaled_x, y, scoring = 'accuracy', cv = cv, n_jobs = -1, error_score = 'raise').mean()\n",
    "recall_stack = cross_val_score(stack_model, scaled_x, y, scoring = 'recall', cv = cv, n_jobs = -1, error_score = 'raise').mean()\n",
    "f1_stack = cross_val_score(stack_model, scaled_x, y, scoring = 'f1', cv = cv, n_jobs = -1, error_score = 'raise').mean()\n",
    "precision_stack = cross_val_score(stack_model, scaled_x, y, scoring = 'precision', cv = cv, n_jobs = -1, error_score = 'raise').mean()\n",
    "roc_auc_stack = cross_val_score(stack_model, scaled_x, y, scoring = 'roc_auc', cv = cv, n_jobs = -1, error_score = 'raise').mean()\n"
   ]
  },
  {
   "cell_type": "markdown",
   "id": "ce96f323",
   "metadata": {},
   "source": [
    "##### Random Forest has high mean value, Thus it can be used for prediction."
   ]
  },
  {
   "cell_type": "code",
   "execution_count": 40,
   "id": "2c810509",
   "metadata": {},
   "outputs": [
    {
     "data": {
      "text/html": [
       "<div>\n",
       "<style scoped>\n",
       "    .dataframe tbody tr th:only-of-type {\n",
       "        vertical-align: middle;\n",
       "    }\n",
       "\n",
       "    .dataframe tbody tr th {\n",
       "        vertical-align: top;\n",
       "    }\n",
       "\n",
       "    .dataframe thead th {\n",
       "        text-align: right;\n",
       "    }\n",
       "</style>\n",
       "<table border=\"1\" class=\"dataframe\">\n",
       "  <thead>\n",
       "    <tr style=\"text-align: right;\">\n",
       "      <th></th>\n",
       "      <th>Model</th>\n",
       "      <th>Accuracy_score</th>\n",
       "      <th>Precision_score</th>\n",
       "      <th>Recall_score</th>\n",
       "      <th>F1_score</th>\n",
       "      <th>AUC score</th>\n",
       "      <th>Train Accuracy</th>\n",
       "      <th>Test Accuracy</th>\n",
       "    </tr>\n",
       "  </thead>\n",
       "  <tbody>\n",
       "    <tr>\n",
       "      <th>0</th>\n",
       "      <td>Logistic</td>\n",
       "      <td>0.814</td>\n",
       "      <td>0.587</td>\n",
       "      <td>0.151</td>\n",
       "      <td>0.240</td>\n",
       "      <td>0.563</td>\n",
       "      <td>0.803</td>\n",
       "      <td>0.814</td>\n",
       "    </tr>\n",
       "    <tr>\n",
       "      <th>1</th>\n",
       "      <td>Decision Tree</td>\n",
       "      <td>0.832</td>\n",
       "      <td>0.702</td>\n",
       "      <td>0.238</td>\n",
       "      <td>0.355</td>\n",
       "      <td>0.607</td>\n",
       "      <td>0.836</td>\n",
       "      <td>0.832</td>\n",
       "    </tr>\n",
       "    <tr>\n",
       "      <th>2</th>\n",
       "      <td>Random Forest</td>\n",
       "      <td>0.837</td>\n",
       "      <td>0.668</td>\n",
       "      <td>0.324</td>\n",
       "      <td>0.436</td>\n",
       "      <td>0.642</td>\n",
       "      <td>0.851</td>\n",
       "      <td>0.837</td>\n",
       "    </tr>\n",
       "    <tr>\n",
       "      <th>3</th>\n",
       "      <td>Adaboost</td>\n",
       "      <td>0.842</td>\n",
       "      <td>0.675</td>\n",
       "      <td>0.360</td>\n",
       "      <td>0.469</td>\n",
       "      <td>0.659</td>\n",
       "      <td>0.830</td>\n",
       "      <td>0.842</td>\n",
       "    </tr>\n",
       "    <tr>\n",
       "      <th>4</th>\n",
       "      <td>Stacking</td>\n",
       "      <td>0.840</td>\n",
       "      <td>0.748</td>\n",
       "      <td>0.269</td>\n",
       "      <td>0.395</td>\n",
       "      <td>0.623</td>\n",
       "      <td>0.838</td>\n",
       "      <td>0.840</td>\n",
       "    </tr>\n",
       "  </tbody>\n",
       "</table>\n",
       "</div>"
      ],
      "text/plain": [
       "           Model  Accuracy_score  Precision_score  Recall_score  F1_score  \\\n",
       "0       Logistic           0.814            0.587         0.151     0.240   \n",
       "1  Decision Tree           0.832            0.702         0.238     0.355   \n",
       "2  Random Forest           0.837            0.668         0.324     0.436   \n",
       "3       Adaboost           0.842            0.675         0.360     0.469   \n",
       "4       Stacking           0.840            0.748         0.269     0.395   \n",
       "\n",
       "   AUC score  Train Accuracy  Test Accuracy  \n",
       "0      0.563           0.803          0.814  \n",
       "1      0.607           0.836          0.832  \n",
       "2      0.642           0.851          0.837  \n",
       "3      0.659           0.830          0.842  \n",
       "4      0.623           0.838          0.840  "
      ]
     },
     "execution_count": 40,
     "metadata": {},
     "output_type": "execute_result"
    }
   ],
   "source": [
    "# Dataframe of all scores for all models.\n",
    "df = pd.DataFrame()\n",
    "df['Model'] = ['Logistic', 'Decision Tree', 'Random Forest', 'Adaboost', 'Stacking']\n",
    "df['Accuracy_score'] = [LR_Accuracy, DTC_Accuracy, RFC_Accuracy, AB_Accuracy, stack_Accuracy]\n",
    "df['Precision_score'] = [LR_Precision, DTC_Precision, RFC_Precision, AB_Precision, stack_Precision]\n",
    "df['Recall_score'] = [LR_recall, DTC_recall, RFC_recall, AB_recall, stack_recall]\n",
    "df['F1_score'] = [LR_f1, DTC_f1, RFC_f1, AB_f1, stack_f1]\n",
    "df['AUC score'] = [LR_AUC, DTC_AUC, RFC_AUC, AB_AUC, stack_AUC]\n",
    "df['Train Accuracy'] = [LR_model.score(x_train,y_train),DTC_model.score(x_train,y_train),RFC_model.score(x_train,y_train),AB_model.score(x_train,y_train),stack_model.score(x_train,y_train)]\n",
    "df['Test Accuracy']  = [LR_model.score(x_test,y_test),DTC_model.score(x_test,y_test),RFC_model.score(x_test,y_test),AB_model.score(x_test,y_test),stack_model.score(x_test,y_test)] \n",
    "df = df.round(3)\n",
    "df"
   ]
  },
  {
   "cell_type": "code",
   "execution_count": null,
   "id": "80b7656c",
   "metadata": {},
   "outputs": [],
   "source": [
    "# After cross validation of all models:\n",
    "df1 = pd.DataFrame()\n",
    "df1['Model'] = ['Logistic', 'Decision Tree', 'Random Forest', 'Adaboost', 'Stacking']\n",
    "df1['Accuracy_score'] = [accuracy_LR, accuracy_DTC, accuracy_RFC, accuracy_AB, accuracy_stack]\n",
    "df1['Precision_score'] = [precision_LR, precision_DTC, precision_RFC, precision_AB, precision_stack]\n",
    "df1['Recall_score'] = [recall_LR, recall_DTC, recall_RFC, recall_AB, recall_stack]\n",
    "df1['F1_score'] = [f1_LR, f1_DTC, f1_RFC, f1_AB, f1_stack]\n",
    "df1['AUC score'] = [roc_auc_LR, roc_auc_DTC, roc_auc_RFC, roc_auc_AB, roc_auc_stack] \n",
    "df1 = df1.round(3)\n",
    "df1"
   ]
  },
  {
   "cell_type": "markdown",
   "id": "2dc3cd76",
   "metadata": {},
   "source": [
    "##### Random Forest has high scores across many performance metrics"
   ]
  },
  {
   "cell_type": "markdown",
   "id": "6f9b2e80",
   "metadata": {},
   "source": [
    "### Finding no. of failures for all Classifiers"
   ]
  },
  {
   "cell_type": "code",
   "execution_count": 36,
   "id": "177bd709",
   "metadata": {},
   "outputs": [],
   "source": [
    "LR_y_predict = pd.DataFrame(LR_y_predict)\n",
    "DTC_y_predict = pd.DataFrame(DTC_y_predict)\n",
    "RFC_y_predict = pd.DataFrame(RFC_y_predict)\n",
    "AB_y_predict = pd.DataFrame(AB_y_predict)\n",
    "stack_y_predict = pd.DataFrame(stack_y_predict)\n",
    "Predict_data = pd.DataFrame()\n",
    "Predict_data['LR_y_predict'] = LR_y_predict\n",
    "Predict_data['DTC_y_predict'] = DTC_y_predict\n",
    "Predict_data['RFC_y_predict'] = RFC_y_predict\n",
    "Predict_data['AB_y_predict'] = AB_y_predict\n",
    "Predict_data['stack_y_predict'] = stack_y_predict\n",
    "Predict_data['y_test'] = y_test.values"
   ]
  },
  {
   "cell_type": "code",
   "execution_count": 37,
   "id": "798cc252",
   "metadata": {},
   "outputs": [
    {
     "name": "stdout",
     "output_type": "stream",
     "text": [
      "Logisitc Regression - Total wrong predictions : 558\n",
      "Decision Tree Classifer - Total wrong predictions : 504\n",
      "Random Forest Classifer - Total wrong predictions : 492\n",
      "AdaBoost Classifer - Total wrong predictions : 475\n",
      "Stacking Classifer - Total wrong predictions : 480\n"
     ]
    }
   ],
   "source": [
    "print('Logisitc Regression - Total wrong predictions :',Predict_data.loc[Predict_data['LR_y_predict'] != Predict_data['y_test']].shape[0])\n",
    "print('Decision Tree Classifer - Total wrong predictions :',Predict_data.loc[Predict_data['DTC_y_predict'] != Predict_data['y_test']].shape[0])\n",
    "print('Random Forest Classifer - Total wrong predictions :',Predict_data.loc[Predict_data['RFC_y_predict'] != Predict_data['y_test']].shape[0])\n",
    "print('AdaBoost Classifer - Total wrong predictions :',Predict_data.loc[Predict_data['AB_y_predict'] != Predict_data['y_test']].shape[0])\n",
    "print('Stacking Classifer - Total wrong predictions :',Predict_data.loc[Predict_data['stack_y_predict'] != Predict_data['y_test']].shape[0])"
   ]
  },
  {
   "cell_type": "markdown",
   "id": "66a9cf72",
   "metadata": {},
   "source": [
    "### ROC_AUC_Curve"
   ]
  },
  {
   "cell_type": "code",
   "execution_count": 38,
   "id": "1d778a51",
   "metadata": {},
   "outputs": [
    {
     "name": "stdout",
     "output_type": "stream",
     "text": [
      "No Skill: ROC AUC=0.500\n",
      "Logistic: ROC AUC=0.761\n",
      "DecisionTree: ROC AUC=0.768\n",
      "RandomForest: ROC AUC=0.777\n",
      "AdaBoost:ROC AUC=0.795\n",
      "Stacking: ROC AUC=0.770\n"
     ]
    },
    {
     "data": {
      "image/png": "[encoded data removed]",
      "text/plain": [
       "<Figure size 432x288 with 1 Axes>"
      ]
     },
     "metadata": {
      "needs_background": "light"
     },
     "output_type": "display_data"
    }
   ],
   "source": [
    "# ROC_AUC_curve\n",
    "from sklearn.metrics import roc_curve\n",
    "# generate a no skill prediction (majority class)\n",
    "ns_probs = [0 for _ in range(len(y_test))]\n",
    "# predict probabilities\n",
    "LR_probs = LR_model.predict_proba(x_test)\n",
    "DTC_probs = DTC_model.predict_proba(x_test)\n",
    "RFC_probs = RFC_model.predict_proba(x_test)\n",
    "AB_probs = AB_model.predict_proba(x_test)\n",
    "stack_probs = stack_model.predict_proba(x_test)\n",
    "# keep probabilities for the positive outcome only\n",
    "LR_probs = LR_probs[:, 1]\n",
    "DTC_probs = DTC_probs[:, 1]\n",
    "RFC_probs = RFC_probs[:, 1]\n",
    "AB_probs = AB_probs[:, 1]\n",
    "stack_probs = stack_probs[:, 1]\n",
    "# calculate scores\n",
    "ns_auc = roc_auc_score(y_test, ns_probs)\n",
    "LR_auc = roc_auc_score(y_test, LR_probs)\n",
    "DTC_auc = roc_auc_score(y_test, DTC_probs)\n",
    "RFC_auc = roc_auc_score(y_test, RFC_probs)\n",
    "AB_auc = roc_auc_score(y_test, AB_probs)\n",
    "stack_auc = roc_auc_score(y_test, stack_probs)\n",
    "# summarize scores\n",
    "print('No Skill: ROC AUC=%.3f' % (ns_auc))\n",
    "print('Logistic: ROC AUC=%.3f' % (LR_auc))\n",
    "print('DecisionTree: ROC AUC=%.3f' % (DTC_auc))\n",
    "print('RandomForest: ROC AUC=%.3f' % (RFC_auc))\n",
    "print('AdaBoost:ROC AUC=%.3f' % (AB_auc))\n",
    "print('Stacking: ROC AUC=%.3f' % (stack_auc))\n",
    "# calculate roc curves\n",
    "ns_fpr, ns_tpr, _ = roc_curve(y_test, ns_probs)\n",
    "LR_fpr, LR_tpr, _ = roc_curve(y_test, LR_probs)\n",
    "DTC_fpr, DTC_tpr, _ = roc_curve(y_test, DTC_probs)\n",
    "RFC_fpr, RFC_tpr, _ = roc_curve(y_test, RFC_probs)\n",
    "AB_fpr, AB_tpr, _ = roc_curve(y_test, AB_probs)\n",
    "stack_fpr, stack_tpr, _ = roc_curve(y_test, stack_probs)\n",
    "# plot the roc curve for the model\n",
    "plt.plot(ns_fpr, ns_tpr, linestyle='--', label='No Skill')\n",
    "plt.plot(LR_fpr, LR_tpr, marker='.', label='Logistic')\n",
    "plt.plot(DTC_fpr, DTC_tpr, marker='.', label='DecisionTree')\n",
    "plt.plot(RFC_fpr, RFC_tpr, marker='.', label='RandomForest')\n",
    "plt.plot(AB_fpr, AB_tpr, marker='.', label='AdaBoost')\n",
    "plt.plot(stack_fpr, stack_tpr, marker='.', label='Stacking')\n",
    "# axis labels\n",
    "plt.xlabel('False Positive Rate')\n",
    "plt.ylabel('True Positive Rate')\n",
    "# show the legend\n",
    "plt.legend()\n",
    "# show the plot\n",
    "plt.show()"
   ]
  },
  {
   "cell_type": "markdown",
   "id": "ace4822d",
   "metadata": {},
   "source": [
    "### Conclusion:"
   ]
  },
  {
   "cell_type": "markdown",
   "id": "cf5e63a7",
   "metadata": {},
   "source": [
    "#### We can cleary see that Adaboostclassifer is better for this data, based on cross-validation, different metric scores, total wrong predictions and also ROC-AUC score is pretty high."
   ]
  },
  {
   "cell_type": "code",
   "execution_count": null,
   "id": "6decdf41",
   "metadata": {},
   "outputs": [],
   "source": []
  }
 ],
 "metadata": {
  "kernelspec": {
   "display_name": "Python 3 (ipykernel)",
   "language": "python",
   "name": "python3"
  },
  "language_info": {
   "codemirror_mode": {
    "name": "ipython",
    "version": 3
   },
   "file_extension": ".py",
   "mimetype": "text/x-python",
   "name": "python",
   "nbconvert_exporter": "python",
   "pygments_lexer": "ipython3",
   "version": "3.9.12"
  }
 },
 "nbformat": 4,
 "nbformat_minor": 5
}
